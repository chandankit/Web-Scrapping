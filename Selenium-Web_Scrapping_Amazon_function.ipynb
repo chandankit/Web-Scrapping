{
 "cells": [
  {
   "cell_type": "code",
   "execution_count": 12,
   "metadata": {},
   "outputs": [],
   "source": [
    "from selenium import webdriver\n",
    "import bs4\n",
    "from bs4 import BeautifulSoup as BS\n",
    "import requests\n",
    "import os\n",
    "import re\n",
    "chrome_path = 'C:\\\\Users\\\\Ankit\\\\Downloads\\\\chromedriver.exe'"
   ]
  },
  {
   "cell_type": "code",
   "execution_count": 3,
   "metadata": {},
   "outputs": [],
   "source": [
    "#inputs hoddies and formal shirts\n",
    "# first_page_link = 'https://www.amazon.in/s?i=apparel&bbn=11960414031&rh=n%3A1571271031%2Cn%3A1968024031%2Cn%3A1968088031%2Cn%3A11960414031%2Cp_85%3A10440599031&s=apparels&dc&pf_rd_i=1968024031&pf_rd_m=A1VBAL9TL5WCBF&pf_rd_p=f0a1182d-fe26-4dd2-b850-01236c132ef2&pf_rd_r=WMQ9B5WE7SY9DCAA0M68&pf_rd_s=merchandised-search-2&qid=1632394391&rnid=10440598031&ref=sr_nr_p_85_1'\n",
    "# second_page_link = 'https://www.amazon.in/s?i=apparel&bbn=11960414031&rh=n%3A1571271031%2Cn%3A1968024031%2Cn%3A1968088031%2Cn%3A11960414031%2Cp_85%3A10440599031&s=apparels&dc&page={}&pf_rd_i=1968024031&pf_rd_m=A1VBAL9TL5WCBF&pf_rd_p=f0a1182d-fe26-4dd2-b850-01236c132ef2&pf_rd_r=WMQ9B5WE7SY9DCAA0M68&pf_rd_s=merchandised-search-2&qid=1633863048&rnid=10440598031&ref=sr_pg_{}'\n",
    "# first_page_link = 'https://www.amazon.in/s?rh=n%3A27059572031&s=apparel&fs=true&pf_rd_i=1968024031&pf_rd_m=A1VBAL9TL5WCBF&pf_rd_p=f0a1182d-fe26-4dd2-b850-01236c132ef2&pf_rd_r=MFAZQVQAR8QAGDZN789T&pf_rd_s=merchandised-search-2&ref=lp_27059572031_sar'\n",
    "# second_page_link = \"https://www.amazon.in/s?i=fashion&rh=n%3A27059572031&s=apparel&fs=true&page={}&pf_rd_i=1968024031&pf_rd_m=A1VBAL9TL5WCBF&pf_rd_p=f0a1182d-fe26-4dd2-b850-01236c132ef2&pf_rd_r=MFAZQVQAR8QAGDZN789T&pf_rd_s=merchandised-search-2&qid=1633758405&ref=sr_pg_{}\"\n",
    "#Womens kurtas and kurtis 22716 onwards\n",
    "# first_page_link = 'https://www.amazon.in/s?i=apparel&bbn=1968255031&rh=n%3A1571271031%2Cn%3A1953602031%2Cn%3A1968253031%2Cn%3A1968255031%2Cp_n_pct-off-with-tax%3A0-%2Cp_85%3A10440599031&s=apparels&dc&pf_rd_i=1953602031&pf_rd_m=A1VBAL9TL5WCBF&pf_rd_p=24717f77-4708-44fe-90cc-73cfd51f29ac&pf_rd_r=MB4BF6Q57V4RGANJYR4H&pf_rd_s=merchandised-search-2&qid=1627991285&rnid=10440598031&ref=sr_nr_p_85_1'\n",
    "# second_page_link = 'https://www.amazon.in/s?i=apparel&bbn=1968255031&rh=n%3A1571271031%2Cn%3A1953602031%2Cn%3A1968253031%2Cn%3A1968255031%2Cp_n_pct-off-with-tax%3A0-%2Cp_85%3A10440599031&s=apparels&dc&page={}&pf_rd_i=1953602031&pf_rd_m=A1VBAL9TL5WCBF&pf_rd_p=24717f77-4708-44fe-90cc-73cfd51f29ac&pf_rd_r=MB4BF6Q57V4RGANJYR4H&pf_rd_s=merchandised-search-2&qid=1633759053&rnid=10440598031&ref=sr_pg_{}'\n",
    "#Womens Salwars 31002 onwards\n",
    "# first_page_link = 'https://www.amazon.in/s?i=apparel&bbn=3723380031&rh=n%3A1571271031%2Cn%3A1953602031%2Cn%3A1968253031%2Cn%3A3723380031%2Cp_n_pct-off-with-tax%3A0-%2Cp_85%3A10440599031&s=review-rank&dc&pf_rd_i=1953602031&pf_rd_m=A1VBAL9TL5WCBF&pf_rd_p=24717f77-4708-44fe-90cc-73cfd51f29ac&pf_rd_r=MB4BF6Q57V4RGANJYR4H&pf_rd_s=merchandised-search-2&qid=1627991314&rnid=10440598031&ref=sr_st_review-rank'\n",
    "# second_page_link = 'https://www.amazon.in/s?i=apparel&bbn=3723380031&rh=n%3A1571271031%2Cn%3A1953602031%2Cn%3A1968253031%2Cn%3A3723380031%2Cp_n_pct-off-with-tax%3A0-%2Cp_85%3A10440599031&s=review-rank&dc&page={}&pf_rd_i=1953602031&pf_rd_m=A1VBAL9TL5WCBF&pf_rd_p=24717f77-4708-44fe-90cc-73cfd51f29ac&pf_rd_r=MB4BF6Q57V4RGANJYR4H&pf_rd_s=merchandised-search-2&qid=1633759050&rnid=10440598031&ref=sr_pg_{}'\n",
    "#Womens Sarees 35360 onwards#80 pages\n",
    "# first_page_link = 'https://www.amazon.in/s?i=apparel&bbn=1968256031&rh=n%3A1571271031%2Cn%3A1953602031%2Cn%3A1968253031%2Cn%3A1968256031%2Cp_n_pct-off-with-tax%3A0-%2Cp_85%3A10440599031&s=popularity-rank&dc&pf_rd_i=1953602031&pf_rd_m=A1VBAL9TL5WCBF&pf_rd_p=24717f77-4708-44fe-90cc-73cfd51f29ac&pf_rd_r=MB4BF6Q57V4RGANJYR4H&pf_rd_s=merchandised-search-2&qid=1627991360&rnid=10440598031&ref=sr_st_popularity-rank'\n",
    "# second_page_link = 'https://www.amazon.in/s?i=apparel&bbn=1968256031&rh=n%3A1571271031%2Cn%3A1953602031%2Cn%3A1968253031%2Cn%3A1968256031%2Cp_n_pct-off-with-tax%3A0-%2Cp_85%3A10440599031&s=popularity-rank&dc&page={}&pf_rd_i=1953602031&pf_rd_m=A1VBAL9TL5WCBF&pf_rd_p=24717f77-4708-44fe-90cc-73cfd51f29ac&pf_rd_r=MB4BF6Q57V4RGANJYR4H&pf_rd_s=merchandised-search-2&qid=1633759055&rnid=10440598031&ref=sr_pg_{}'\n",
    "#Womens Dresses 38684 onwards#30 pages\n",
    "# first_page_link = 'https://www.amazon.in/s?i=apparel&bbn=1968445031&rh=n%3A1571271031%2Cn%3A1953602031%2Cn%3A11400137031%2Cn%3A15330093031%2Cn%3A1968445031%2Cp_n_pct-off-with-tax%3A0-%2Cp_85%3A10440599031&s=popularity-rank&dc&pf_rd_i=1953602031&pf_rd_m=A1VBAL9TL5WCBF&pf_rd_p=24717f77-4708-44fe-90cc-73cfd51f29ac&pf_rd_r=MB4BF6Q57V4RGANJYR4H&pf_rd_s=merchandised-search-2&qid=1627991393&rnid=10440598031&ref=sr_st_popularity-rank'\n",
    "# second_page_link = 'https://www.amazon.in/s?i=apparel&bbn=1968445031&rh=n%3A1571271031%2Cn%3A1953602031%2Cn%3A11400137031%2Cn%3A15330093031%2Cn%3A1968445031%2Cp_n_pct-off-with-tax%3A0-%2Cp_85%3A10440599031&s=popularity-rank&dc&page={}&pf_rd_i=1953602031&pf_rd_m=A1VBAL9TL5WCBF&pf_rd_p=24717f77-4708-44fe-90cc-73cfd51f29ac&pf_rd_r=MB4BF6Q57V4RGANJYR4H&pf_rd_s=merchandised-search-2&qid=1633759060&rnid=10440598031&ref=sr_pg_{}'\n",
    "#Womens Lehenga 40346 onwards#30 pages\n",
    "# first_page_link = 'https://www.amazon.in/s?bbn=3723378031&rh=n%3A3723378031%2Cp_85%3A10440599031&s=apparels&dc&pf_rd_i=1953602031&pf_rd_m=A1VBAL9TL5WCBF&pf_rd_p=24717f77-4708-44fe-90cc-73cfd51f29ac&pf_rd_r=MB4BF6Q57V4RGANJYR4H&pf_rd_s=merchandised-search-2&qid=1633102879&rnid=10440598031&ref=lp_3723378031_nr_p_85_1'\n",
    "# second_page_link = 'https://www.amazon.in/s?i=apparel&bbn=3723378031&rh=n%3A3723378031%2Cp_85%3A10440599031&s=apparels&dc&page={}&pf_rd_i=1953602031&pf_rd_m=A1VBAL9TL5WCBF&pf_rd_p=24717f77-4708-44fe-90cc-73cfd51f29ac&pf_rd_r=MB4BF6Q57V4RGANJYR4H&pf_rd_s=merchandised-search-2&qid=1633759072&rnid=10440598031&ref=sr_pg_{}'\n",
    "#Womens Tops 41996 onwards#30 pages\n",
    "# first_page_link = 'https://www.amazon.in/s?i=apparel&bbn=1968542031&rh=n%3A1968542031%2Cp_n_pct-off-with-tax%3A0-%2Cp_85%3A10440599031&s=apparels&dc&pf_rd_i=1953602031&pf_rd_m=A1VBAL9TL5WCBF&pf_rd_p=24717f77-4708-44fe-90cc-73cfd51f29ac&pf_rd_r=MB4BF6Q57V4RGANJYR4H&pf_rd_s=merchandised-search-2&qid=1627991162&rnid=10440598031&ref=sr_nr_p_85_1'\n",
    "# second_page_link = 'https://www.amazon.in/s?i=apparel&bbn=1968542031&rh=n%3A1968542031%2Cp_n_pct-off-with-tax%3A0-%2Cp_85%3A10440599031&s=apparels&dc&page={}&pf_rd_i=1953602031&pf_rd_m=A1VBAL9TL5WCBF&pf_rd_p=24717f77-4708-44fe-90cc-73cfd51f29ac&pf_rd_r=MB4BF6Q57V4RGANJYR4H&pf_rd_s=merchandised-search-2&qid=1633759063&rnid=10440598031&ref=sr_pg_{}'"
   ]
  },
  {
   "cell_type": "code",
   "execution_count": 5,
   "metadata": {},
   "outputs": [
    {
     "name": "stdout",
     "output_type": "stream",
     "text": [
      "https://www.amazon.in/s?i=apparel&bbn=3723380031&rh=n%3A1571271031%2Cn%3A1953602031%2Cn%3A1968253031%2Cn%3A3723380031%2Cp_n_pct-off-with-tax%3A0-%2Cp_85%3A10440599031&s=review-rank&dc&page=2&pf_rd_i=1953602031&pf_rd_m=A1VBAL9TL5WCBF&pf_rd_p=24717f77-4708-44fe-90cc-73cfd51f29ac&pf_rd_r=MB4BF6Q57V4RGANJYR4H&pf_rd_s=merchandised-search-2&qid=1633759050&rnid=10440598031&ref=sr_pg_2\n"
     ]
    }
   ],
   "source": [
    "print(second_page_link.format(2,2))"
   ]
  },
  {
   "cell_type": "code",
   "execution_count": 67,
   "metadata": {},
   "outputs": [],
   "source": [
    "def get_first_page_images(PAGE_ONE,flag = False):\n",
    "    driver = webdriver.Chrome(executable_path = chrome_path)\n",
    "    driver.get(PAGE_ONE)\n",
    "    html = driver.page_source\n",
    "    driver.close()\n",
    "    soup = BS(html,features = 'html.parser')\n",
    "    if flag:\n",
    "        return soup\n",
    "    images = soup.find('div',{'class':'s-main-slot s-result-list s-search-results sg-row'}).findAll('img')\n",
    "    i = find_last_nos_in_a_file()\n",
    "    for image in images:\n",
    "        img = (image.get('src'))\n",
    "        response_src = requests.get(img)\n",
    "        with open('./Amazon_image/'+'image_'+str(i)+'.png', 'wb') as file:\n",
    "            file.write(response_src.content)\n",
    "            file.close()\n",
    "        i+=1"
   ]
  },
  {
   "cell_type": "code",
   "execution_count": 68,
   "metadata": {},
   "outputs": [],
   "source": [
    "get_first_page_images(first_page_link)"
   ]
  },
  {
   "cell_type": "code",
   "execution_count": 69,
   "metadata": {},
   "outputs": [],
   "source": [
    "def find_total_page_in_website(PAGE_ONE):\n",
    "    soup = get_first_page_images(PAGE_ONE,flag = True)\n",
    "    total_pages = soup.findAll('li',{'aria-disabled':'true'})\n",
    "    soup.findAll('li',{'aria-disabled':'true'},{'class':'a-disabled'})\n",
    "    iter_nos = 0 \n",
    "    for i in total_pages:\n",
    "        s = (i.text.strip('.'))\n",
    "        if s:\n",
    "            iter_nos =int(s)\n",
    "    return iter_nos"
   ]
  },
  {
   "cell_type": "code",
   "execution_count": 70,
   "metadata": {},
   "outputs": [],
   "source": [
    "# find_total_page_in_website(first_page_link)"
   ]
  },
  {
   "cell_type": "code",
   "execution_count": 71,
   "metadata": {},
   "outputs": [],
   "source": [
    "def find_last_nos_in_a_file():\n",
    "    max_pages_in_file = 0\n",
    "    for path,folder,file in os.walk('C:\\Users\\Ankit\\ANKIT\\Web Scrapping Practice\\Amazon_image'):\n",
    "        for l in file:\n",
    "            if int(re.findall('\\d+',l)[0]) > max_pages_in_file:\n",
    "                max_pages_in_file = int(re.findall('\\d+',l)[0])\n",
    "    return max_pages_in_file+1"
   ]
  },
  {
   "cell_type": "code",
   "execution_count": 72,
   "metadata": {},
   "outputs": [
    {
     "data": {
      "text/plain": [
       "42054"
      ]
     },
     "execution_count": 72,
     "metadata": {},
     "output_type": "execute_result"
    }
   ],
   "source": [
    "find_last_nos_in_a_file()"
   ]
  },
  {
   "cell_type": "code",
   "execution_count": 73,
   "metadata": {},
   "outputs": [],
   "source": [
    "def iterate_pages(link_second_page_onwards,iter_nos=30):\n",
    "    for nos in range(2,iter_nos+1):\n",
    "        driver = webdriver.Chrome(executable_path = chrome_path)\n",
    "        driver.get(link_second_page_onwards.format(nos,nos))\n",
    "        html = driver.page_source\n",
    "        soup = BS(html,features = 'html.parser')\n",
    "        driver.close()\n",
    "        print('CURRENT PAGE NOS',nos)\n",
    "        images = soup.find('div',{'class':'s-main-slot s-result-list s-search-results sg-row'}).findAll('img')\n",
    "        i = find_last_nos_in_a_file()\n",
    "        for image in images:\n",
    "            img = (image.get('src'))\n",
    "            response_src = requests.get(img)\n",
    "            with open('./Amazon_image/'+'image_'+str(i)+'.png', 'wb') as file:\n",
    "                file.write(response_src.content)\n",
    "                file.close()\n",
    "            i+=1"
   ]
  },
  {
   "cell_type": "code",
   "execution_count": 74,
   "metadata": {},
   "outputs": [
    {
     "name": "stdout",
     "output_type": "stream",
     "text": [
      "CURRENT PAGE NOS 2\n",
      "CURRENT PAGE NOS 3\n",
      "CURRENT PAGE NOS 4\n",
      "CURRENT PAGE NOS 5\n",
      "CURRENT PAGE NOS 6\n",
      "CURRENT PAGE NOS 7\n",
      "CURRENT PAGE NOS 8\n",
      "CURRENT PAGE NOS 9\n",
      "CURRENT PAGE NOS 10\n",
      "CURRENT PAGE NOS 11\n",
      "CURRENT PAGE NOS 12\n",
      "CURRENT PAGE NOS 13\n",
      "CURRENT PAGE NOS 14\n",
      "CURRENT PAGE NOS 15\n",
      "CURRENT PAGE NOS 16\n",
      "CURRENT PAGE NOS 17\n",
      "CURRENT PAGE NOS 18\n",
      "CURRENT PAGE NOS 19\n",
      "CURRENT PAGE NOS 20\n",
      "CURRENT PAGE NOS 21\n",
      "CURRENT PAGE NOS 22\n",
      "CURRENT PAGE NOS 23\n",
      "CURRENT PAGE NOS 24\n",
      "CURRENT PAGE NOS 25\n",
      "CURRENT PAGE NOS 26\n",
      "CURRENT PAGE NOS 27\n",
      "CURRENT PAGE NOS 28\n",
      "CURRENT PAGE NOS 29\n",
      "CURRENT PAGE NOS 30\n"
     ]
    }
   ],
   "source": [
    "# iter_no = find_total_page_in_website(PAGE_ONE)\n",
    "# iterate_pages(second_page_link,iter_nos)\n",
    "iterate_pages(second_page_link)"
   ]
  },
  {
   "cell_type": "code",
   "execution_count": null,
   "metadata": {},
   "outputs": [],
   "source": []
  }
 ],
 "metadata": {
  "kernelspec": {
   "display_name": "Python 3",
   "language": "python",
   "name": "python3"
  },
  "language_info": {
   "codemirror_mode": {
    "name": "ipython",
    "version": 3
   },
   "file_extension": ".py",
   "mimetype": "text/x-python",
   "name": "python",
   "nbconvert_exporter": "python",
   "pygments_lexer": "ipython3",
   "version": "3.8.8"
  }
 },
 "nbformat": 4,
 "nbformat_minor": 4
}
